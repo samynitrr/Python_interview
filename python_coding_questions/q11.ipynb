{
 "cells": [
  {
   "cell_type": "markdown",
   "metadata": {},
   "source": [
    "#####  majority element in an array A[] of size n is an element that appears more than n/2 times.\n",
    "\n",
    "```\n",
    "Example\n",
    "Input : [3, 3, 4, 2, 4, 4, 2, 4, 4]\n",
    "Output : 4\n",
    "```\n",
    "```\n",
    "Input : [3, 3, 4, 2, 4, 4, 2, 4]\n",
    "Output : No Majority Element\n",
    "```"
   ]
  },
  {
   "cell_type": "code",
   "execution_count": null,
   "metadata": {},
   "outputs": [],
   "source": [
    "def find_major_ele(arr):\n",
    "  #code here\n",
    "  return\n",
    "\n"
   ]
  },
  {
   "cell_type": "code",
   "execution_count": null,
   "metadata": {},
   "outputs": [],
   "source": [
    "inp1 = [3, 3, 4, 2, 4, 4, 2, 4, 4]\n",
    "\n",
    "print(find_major_ele(inp1))"
   ]
  },
  {
   "cell_type": "code",
   "execution_count": null,
   "metadata": {},
   "outputs": [],
   "source": [
    "inp2 = [3, 3, 4, 2, 4, 4, 2, 4]\n",
    "\n",
    "print(find_major_ele(inp2))"
   ]
  }
 ],
 "metadata": {
  "kernelspec": {
   "display_name": "Python 3.8.0",
   "language": "python",
   "name": "python3"
  },
  "language_info": {
   "name": "python",
   "version": "3.8.0"
  },
  "orig_nbformat": 4,
  "vscode": {
   "interpreter": {
    "hash": "a823021c58b37f4380aa261a51e8bd64456a1f2837149ed904b270628b59cd24"
   }
  }
 },
 "nbformat": 4,
 "nbformat_minor": 2
}
