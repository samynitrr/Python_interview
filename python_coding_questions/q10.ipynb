{
 "cells": [
  {
   "cell_type": "markdown",
   "metadata": {},
   "source": [
    "#### Write a program such that it creates sub list from the list and returns the sum of all the sub list elements.\n",
    "\n",
    "```\n",
    "Input\n",
    "a = [1,2,3]\n",
    "output: 18\n",
    "```\n",
    "```\n",
    "Input\n",
    "a = []\n",
    "output: [[]]\n",
    "```\n",
    "```\n",
    "Constraints: \n",
    "1. Subsequences are allowed but only the sublist or subsequences having more than 1 element is accepted.\n",
    "2. The list will always have more than 1 element\n",
    "```\n"
   ]
  },
  {
   "cell_type": "code",
   "execution_count": null,
   "metadata": {},
   "outputs": [],
   "source": []
  }
 ],
 "metadata": {
  "kernelspec": {
   "display_name": "Python 3.8.0",
   "language": "python",
   "name": "python3"
  },
  "language_info": {
   "name": "python",
   "version": "3.8.0"
  },
  "orig_nbformat": 4,
  "vscode": {
   "interpreter": {
    "hash": "a823021c58b37f4380aa261a51e8bd64456a1f2837149ed904b270628b59cd24"
   }
  }
 },
 "nbformat": 4,
 "nbformat_minor": 2
}
