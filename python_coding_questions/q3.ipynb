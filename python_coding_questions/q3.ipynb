{
 "cells": [
  {
   "cell_type": "markdown",
   "metadata": {},
   "source": [
    "SQL Challenge\n",
    "Your table: maintable_1YZ0I\n",
    "\n",
    "MySQL version: 8.0.23\n",
    "\n",
    "In this MySQL challenge, your query should return the number of rows from your table where FirstName contains \"e\" and LastName has more than 5 characters. Your output should look like the following table.\n",
    "\n",
    "```\n",
    "ID\tFirstName\tLastName\tAge\n",
    "1\tDaniel\tSmith\t25\n",
    "2\tMike\tSmith\t22\n",
    "3\tJenny\tRichards\t28\n",
    "4\tRobert\tBlack\t22\n",
    "5\tNoah\tFritz\t30\n",
    "6\tAshley\tJohnson\t25\n",
    "```\n",
    "```\n",
    "/* write your SQL query below */\n",
    "SELECT * FROM maintable_1YZ0I\n",
    "```\n",
    "\n"
   ]
  },
  {
   "cell_type": "code",
   "execution_count": 1,
   "metadata": {},
   "outputs": [
    {
     "data": {
      "text/html": [
       "<div>\n",
       "<style scoped>\n",
       "    .dataframe tbody tr th:only-of-type {\n",
       "        vertical-align: middle;\n",
       "    }\n",
       "\n",
       "    .dataframe tbody tr th {\n",
       "        vertical-align: top;\n",
       "    }\n",
       "\n",
       "    .dataframe thead th {\n",
       "        text-align: right;\n",
       "    }\n",
       "</style>\n",
       "<table border=\"1\" class=\"dataframe\">\n",
       "  <thead>\n",
       "    <tr style=\"text-align: right;\">\n",
       "      <th></th>\n",
       "      <th>id</th>\n",
       "      <th>FirstName</th>\n",
       "      <th>LastName</th>\n",
       "      <th>Age</th>\n",
       "    </tr>\n",
       "  </thead>\n",
       "  <tbody>\n",
       "    <tr>\n",
       "      <th>0</th>\n",
       "      <td>1</td>\n",
       "      <td>Daniel</td>\n",
       "      <td>Smith</td>\n",
       "      <td>25</td>\n",
       "    </tr>\n",
       "    <tr>\n",
       "      <th>1</th>\n",
       "      <td>2</td>\n",
       "      <td>Mike</td>\n",
       "      <td>Smith</td>\n",
       "      <td>22</td>\n",
       "    </tr>\n",
       "    <tr>\n",
       "      <th>2</th>\n",
       "      <td>3</td>\n",
       "      <td>Jenny</td>\n",
       "      <td>Richards</td>\n",
       "      <td>28</td>\n",
       "    </tr>\n",
       "    <tr>\n",
       "      <th>3</th>\n",
       "      <td>4</td>\n",
       "      <td>Robert</td>\n",
       "      <td>Black</td>\n",
       "      <td>22</td>\n",
       "    </tr>\n",
       "    <tr>\n",
       "      <th>4</th>\n",
       "      <td>5</td>\n",
       "      <td>Noah</td>\n",
       "      <td>Fritz</td>\n",
       "      <td>30</td>\n",
       "    </tr>\n",
       "    <tr>\n",
       "      <th>5</th>\n",
       "      <td>6</td>\n",
       "      <td>Ashley</td>\n",
       "      <td>Johnson</td>\n",
       "      <td>25</td>\n",
       "    </tr>\n",
       "  </tbody>\n",
       "</table>\n",
       "</div>"
      ],
      "text/plain": [
       "   id FirstName  LastName  Age\n",
       "0   1    Daniel     Smith   25\n",
       "1   2      Mike     Smith   22\n",
       "2   3     Jenny  Richards   28\n",
       "3   4    Robert     Black   22\n",
       "4   5      Noah     Fritz   30\n",
       "5   6    Ashley   Johnson   25"
      ]
     },
     "execution_count": 1,
     "metadata": {},
     "output_type": "execute_result"
    }
   ],
   "source": [
    "import pandas as pd\n",
    "data = {'id':[1,2,3,4,5,6], \n",
    "'FirstName':['Daniel', 'Mike', 'Jenny', 'Robert', 'Noah', 'Ashley'], \n",
    "'LastName':['Smith', 'Smith', 'Richards', 'Black', 'Fritz', 'Johnson'],\n",
    "'Age':[25,22,28,22,30,25]}\n",
    "\n",
    "df = pd.DataFrame(data)\n",
    "df"
   ]
  },
  {
   "cell_type": "code",
   "execution_count": null,
   "metadata": {},
   "outputs": [],
   "source": []
  }
 ],
 "metadata": {
  "kernelspec": {
   "display_name": "Python 3.8.0",
   "language": "python",
   "name": "python3"
  },
  "language_info": {
   "codemirror_mode": {
    "name": "ipython",
    "version": 3
   },
   "file_extension": ".py",
   "mimetype": "text/x-python",
   "name": "python",
   "nbconvert_exporter": "python",
   "pygments_lexer": "ipython3",
   "version": "3.8.0"
  },
  "orig_nbformat": 4,
  "vscode": {
   "interpreter": {
    "hash": "a823021c58b37f4380aa261a51e8bd64456a1f2837149ed904b270628b59cd24"
   }
  }
 },
 "nbformat": 4,
 "nbformat_minor": 2
}
