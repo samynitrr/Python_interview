{
 "cells": [
  {
   "cell_type": "markdown",
   "metadata": {},
   "source": [
    "##### OPEN-ENDED QUESTIONS\n",
    "What is caliberation? What is ROC AUC? And how does caliberation impacts ROC AUC?"
   ]
  }
 ],
 "metadata": {
  "kernelspec": {
   "display_name": "Python 3.8.0",
   "language": "python",
   "name": "python3"
  },
  "language_info": {
   "name": "python",
   "version": "3.8.0"
  },
  "orig_nbformat": 4,
  "vscode": {
   "interpreter": {
    "hash": "a823021c58b37f4380aa261a51e8bd64456a1f2837149ed904b270628b59cd24"
   }
  }
 },
 "nbformat": 4,
 "nbformat_minor": 2
}
