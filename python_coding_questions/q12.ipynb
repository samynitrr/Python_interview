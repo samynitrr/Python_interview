{
 "cells": [
  {
   "cell_type": "markdown",
   "metadata": {},
   "source": [
    "Write a program to find the maximum length of the continuous subarray of 0\n",
    "\n",
    "```\n",
    "Input:\n",
    "Array= [0,0,1,1,0,0,0,0,0]\n",
    "Output: 5\n",
    "```\n",
    "\t\n"
   ]
  },
  {
   "cell_type": "code",
   "execution_count": null,
   "metadata": {},
   "outputs": [],
   "source": []
  }
 ],
 "metadata": {
  "language_info": {
   "name": "python"
  },
  "orig_nbformat": 4
 },
 "nbformat": 4,
 "nbformat_minor": 2
}
