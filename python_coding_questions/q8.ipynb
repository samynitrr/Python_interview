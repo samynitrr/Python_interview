{
 "cells": [
  {
   "cell_type": "markdown",
   "metadata": {},
   "source": [
    "### Math Challenge\n",
    "\n",
    "- Have the function MathChallenge(str) take the str parameter being passed and determine if there is some substring K that can be repeated N > 1 times to produce the input string exactly as it appears. Your program should return the longest substring K, and if there is none it should return the string -1.\n",
    "\n",
    "- For example: if str is \"abcababcababcab\" then your program should return abcab because that is the longest substring that is repeated 3 times to create the final string. Another example: if str is \"abababababab\" then your program should return ababab because it is the longest substring. If the input string contains only a single character, your program should return the string -1.\n",
    "\n",
    "```\n",
    "Examples\n",
    "Input: \"abcxabc\"\n",
    "Output: -1\n",
    "```\n",
    "```\n",
    "Input: \"affedaaffed\"\n",
    "Output: -1\n",
    "```"
   ]
  },
  {
   "cell_type": "code",
   "execution_count": null,
   "metadata": {},
   "outputs": [],
   "source": [
    "def MathChallenge(strParam):\n",
    "\n",
    "  # code goes here\n",
    "  return strParam"
   ]
  },
  {
   "cell_type": "code",
   "execution_count": null,
   "metadata": {},
   "outputs": [],
   "source": [
    "inp1 = \"abcxabc\"\n",
    "print MathChallenge(inp1)"
   ]
  },
  {
   "cell_type": "code",
   "execution_count": null,
   "metadata": {},
   "outputs": [],
   "source": [
    "inp2 = \"affedaaffed\"\n",
    "print MathChallenge(inp2)"
   ]
  },
  {
   "cell_type": "code",
   "execution_count": null,
   "metadata": {},
   "outputs": [],
   "source": [
    "inp3 = \"abcababcababcab\"\n",
    "print MathChallenge(inp3)"
   ]
  },
  {
   "cell_type": "code",
   "execution_count": null,
   "metadata": {},
   "outputs": [],
   "source": [
    "inp4 = \"abababababab\"\n",
    "print MathChallenge(inp4)"
   ]
  }
 ],
 "metadata": {
  "kernelspec": {
   "display_name": "Python 3.8.0",
   "language": "python",
   "name": "python3"
  },
  "language_info": {
   "name": "python",
   "version": "3.8.0"
  },
  "orig_nbformat": 4,
  "vscode": {
   "interpreter": {
    "hash": "a823021c58b37f4380aa261a51e8bd64456a1f2837149ed904b270628b59cd24"
   }
  }
 },
 "nbformat": 4,
 "nbformat_minor": 2
}
