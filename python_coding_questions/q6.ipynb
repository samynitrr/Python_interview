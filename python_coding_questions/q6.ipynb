{
 "cells": [
  {
   "cell_type": "markdown",
   "metadata": {},
   "source": [
    "### Array Challenge\n",
    "\n",
    "- Have the function ArrayChallenge(strArr) take the array of strings stored in strArr, which will only contain 4 elements and be in the form (x y) where x and y are both integers, and return the area of the rectangle formed by the 4 points on a Cartesian grid. The 4 elements will be in arbitrary order. \n",
    "\n",
    "- For example: if strArr is [\"(0 0)\", \"(3 0)\", \"(0 2)\", \"(3 2)\"] then your program should return 6 because the width of the rectangle is 3 and the height is 2 and the area of a rectangle is equal to the width * height.\n",
    "\n",
    "```\n",
    "Examples\n",
    "Input: [\"(1 1)\",\"(1 3)\",\"(3 1)\",\"(3 3)\"]\n",
    "Output: 4\n",
    "```\n",
    "```\n",
    "Input: [\"(0 0)\",\"(1 0)\",\"(1 1)\",\"(0 1)\"]\n",
    "Output: 1\n",
    "```"
   ]
  },
  {
   "cell_type": "code",
   "execution_count": null,
   "metadata": {},
   "outputs": [],
   "source": [
    "def ArrayChallenge(strArr):\n",
    "\n",
    "  # code goes here\n",
    "  return strArr\n",
    "\n",
    "\n"
   ]
  },
  {
   "cell_type": "code",
   "execution_count": null,
   "metadata": {},
   "outputs": [],
   "source": [
    "inp1 = [\"(1 1)\",\"(1 3)\",\"(3 1)\",\"(3 3)\"]\n",
    "print ArrayChallenge(inp1)"
   ]
  },
  {
   "cell_type": "code",
   "execution_count": null,
   "metadata": {},
   "outputs": [],
   "source": [
    "inp2 = [\"(0 0)\",\"(1 0)\",\"(1 1)\",\"(0 1)\"]\n",
    "print ArrayChallenge(inp2)"
   ]
  }
 ],
 "metadata": {
  "kernelspec": {
   "display_name": "Python 3.8.0",
   "language": "python",
   "name": "python3"
  },
  "language_info": {
   "name": "python",
   "version": "3.8.0"
  },
  "orig_nbformat": 4,
  "vscode": {
   "interpreter": {
    "hash": "a823021c58b37f4380aa261a51e8bd64456a1f2837149ed904b270628b59cd24"
   }
  }
 },
 "nbformat": 4,
 "nbformat_minor": 2
}
